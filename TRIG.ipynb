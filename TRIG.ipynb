{
 "cells": [
  {
   "cell_type": "code",
   "execution_count": 42,
   "metadata": {},
   "outputs": [],
   "source": [
    "from twython import Twython, TwythonError\n",
    "from collections import Counter\n",
    "import numpy as np\n",
    "import matplotlib.mlab as mlab\n",
    "import matplotlib.pyplot as plt\n",
    "import networkx as nx\n",
    "import time\n",
    "import json\n",
    "import os"
   ]
  },
  {
   "cell_type": "code",
   "execution_count": 43,
   "metadata": {},
   "outputs": [],
   "source": [
    "APP_KEY = '',
    "APP_SECRET = '',
    "\n",
    "twitter = Twython(APP_KEY, APP_SECRET)"
   ]
  },
  {
   "cell_type": "code",
   "execution_count": 44,
   "metadata": {},
   "outputs": [],
   "source": [
    "def getTimeline(name):\n",
    "\tstatuses = []\n",
    "\ttry:\n",
    "\t\tresults = twitter.get_user_timeline(screen_name=name, count=200, tweet_mode='extended')\n",
    "\texcept TwythonError as e:\n",
    "\t\tprint e\n",
    "\tstatuses+=results\n",
    "\ttot_tn = 0\n",
    "\ti=0\n",
    "\twhile len(results) != 0:\n",
    "\t        i += 1\n",
    "\t        next_max_id = results[-1]['id'] - 1\n",
    "\t        try:\n",
    "\t\t\tresults = twitter.get_user_timeline(screen_name=name, count=200, max_id=next_max_id, tweet_mode='extended')\n",
    "\t        except TwythonError as e:\n",
    "\t            print e\n",
    "\t            tn = out(statuses,filename)\n",
    "\t            tot_tn += tn\n",
    "\t            print tot_tn\n",
    "\t            statuses = []\n",
    "\t            time.sleep(900)\n",
    "\t        statuses+=results\n",
    "\tprint name, ' done'    \n",
    "\treturn statuses"
   ]
  },
  {
   "cell_type": "code",
   "execution_count": 45,
   "metadata": {},
   "outputs": [],
   "source": [
    "def getSources(statuses):\n",
    "\trt_source=[]\n",
    "\tfor result in statuses:\n",
    "\t\t\tif 'RT @' in result['full_text']:\n",
    "\t\t\t\tif result['entities']['user_mentions']:\n",
    "\t\t\t\t\trt_source.append(result['entities']['user_mentions'][0]['screen_name'])\n",
    "\t\t\telif result['is_quote_status']:\n",
    "\t\t\t\tif 'quoted_status' in result: #se il tweet é stato originale questo campo non esiste anche essendo true quello di prima\n",
    "\t\t\t\t\trt_source.append(result['quoted_status']['user']['screen_name'])\n",
    "\treturn rt_source"
   ]
  },
  {
   "cell_type": "code",
   "execution_count": 46,
   "metadata": {},
   "outputs": [],
   "source": [
    "def getMentions(statuses):\n",
    "\tmentions=[]\n",
    "\tfor result in statuses:\n",
    "\t\t\tif 'RT @' not in result['full_text']:\n",
    "\t\t\t\tfor mention in result['entities']['user_mentions']:\n",
    "\t\t\t\t\tmentions.append(mention['screen_name'])\n",
    "\treturn mentions"
   ]
  },
  {
   "cell_type": "code",
   "execution_count": 47,
   "metadata": {},
   "outputs": [],
   "source": [
    "def getMentionsW(statuses):\n",
    "\tmentions=[]\n",
    "\tfor result in statuses:\n",
    "\t\t\tif 'RT @' not in result['full_text']:\n",
    "\t\t\t\tfor i in range(result['retweet_count']):\n",
    "\t\t\t\t\tfor mention in result['entities']['user_mentions']:\n",
    "\t\t\t\t\t\tmentions.append(mention['screen_name'])\n",
    "\treturn mentions"
   ]
  },
  {
   "cell_type": "code",
   "execution_count": 48,
   "metadata": {},
   "outputs": [],
   "source": [
    "def getHashtags(statuses):\n",
    "\thashtags=[]\n",
    "\tfor result in statuses:\n",
    "\t\t\tif 'RT @' not in result['full_text']:\n",
    "\t\t\t\tfor tag in result['entities']['hashtags']:\n",
    "\t\t\t\t\thashtags.append(tag['text'])\n",
    "\treturn hashtags"
   ]
  },
  {
   "cell_type": "code",
   "execution_count": 49,
   "metadata": {},
   "outputs": [],
   "source": [
    "def getHashtagsW(statuses):\n",
    "\thashtags=[]\n",
    "\tfor result in statuses:\n",
    "\t\t\tif 'RT @' not in result['full_text']:\n",
    "\t\t\t\tfor i in range(result['retweet_count']):\n",
    "\t\t\t\t\tfor tag in result['entities']['hashtags']:\n",
    "\t\t\t\t\t\thashtags.append(tag['text'])\n",
    "\treturn hashtags"
   ]
  },
  {
   "cell_type": "code",
   "execution_count": 50,
   "metadata": {},
   "outputs": [],
   "source": [
    "def nxdigraph_to_gdf(G, path, node_attr=None, edge_attr=None, giant=False):\n",
    "    import networkx as nx\n",
    "    import numpy as np\n",
    "    print 'to_GDF'\n",
    "    # Keep Giant component if giant == True\n",
    "    if giant == True:\n",
    "        G = sorted(nx.connected_component_subgraphs(G), key=len, reverse=True)[0]\n",
    "\n",
    "    # get the info for the gdf node section header:\n",
    "    # - define the type of node attributes and put them in a list\n",
    "    node_attr_gdf = []\n",
    "    if node_attr != None:\n",
    "        for i in range(len(node_attr)):\n",
    "            attr = G.node[G.nodes()[0]][node_attr[i]]\n",
    "            if type(attr) != int and type(attr) != float and type(attr) != np.float64:\n",
    "                node_attr_gdf += ['VARCHAR']\n",
    "                print 'node attr', node_attr[i], ': varchar'\n",
    "\n",
    "            elif type(attr) == int:\n",
    "                node_attr_gdf += ['INTEGER']\n",
    "                print 'node attr', node_attr[i], ': int'\n",
    "\n",
    "            elif type(attr) == float or type(attr) == np.float64:\n",
    "                node_attr_gdf += ['DOUBLE']\n",
    "                print 'node attr', node_attr[i], ': double'\n",
    "\n",
    "\n",
    "            else:\n",
    "                # Maybe there are more options to consider apart from the three above\n",
    "                print 'ERROR: node attr type not recognized'\n",
    "                print attr, type(attr)\n",
    "\n",
    "    # get the info for the gdf edge section header:\n",
    "    # - define the type of edge attributes and put them in a list\n",
    "    edge_attr_gdf = []\n",
    "    if edge_attr != None:\n",
    "        for i in range(len(edge_attr)):\n",
    "            edge = G.edges()[0]\n",
    "            attr = G[edge[0]][edge[1]][edge_attr[i]]\n",
    "            if type(attr) != int and type(attr) != float and type(attr) != np.float64:\n",
    "                edge_attr_gdf += ['VARCHAR']\n",
    "                print 'edge attr', edge_attr[i], ': varchar'\n",
    "\n",
    "            elif type(attr) == int:\n",
    "                edge_attr_gdf += ['INTEGER']\n",
    "                print 'edge attr', edge_attr[i], ': int'\n",
    "\n",
    "            elif type(attr) == float or type(attr) == np.float64:\n",
    "                edge_attr_gdf += ['DOUBLE']\n",
    "                print 'edge attr', edge_attr[i], ': double'\n",
    "\n",
    "            else:\n",
    "                print 'ERROR: edge attr type not recognized'\n",
    "\n",
    "    print 'writing...'\n",
    "\n",
    "\n",
    "    with open(path, 'wb') as f:\n",
    "\n",
    "        # Write NODES section\n",
    "        # Heading\n",
    "        f.write('nodedef>name VARCHAR,label VARCHAR')\n",
    "        if node_attr != None and len(node_attr)>0:\n",
    "            for i in range(len(node_attr)):\n",
    "                f.write(',' + node_attr[i] + ' ' + node_attr_gdf[i])\n",
    "\n",
    "        f.write('\\n')\n",
    "        print 'nodes header done'\n",
    "\n",
    "        # Elements\n",
    "        for item in G.nodes():\n",
    "\n",
    "            if node_attr != None and len(node_attr)>0:\n",
    "\n",
    "                f.write(str(item) + ', ' + str(item))\n",
    "                for i in range(len(node_attr)):\n",
    "                    if i < len(node_attr) - 1:\n",
    "                        f.write(', ' + str(G.node[item][node_attr[i]]))\n",
    "                    else:\n",
    "                        f.write(', ' + str(G.node[item][node_attr[i]]) + '\\n')\n",
    "            else:\n",
    "                f.write(str(item) + ', ' + str(item) + '\\n')\n",
    "        print 'nodes done'\n",
    "\n",
    "        # Write LINK section\n",
    "        # Heading\n",
    "        f.write('edgedef>node1 VARCHAR,node2 VARCHAR,directed BOOLEAN')\n",
    "        if edge_attr != None and len(edge_attr)>0:\n",
    "            f.write(',')\n",
    "            for i in range(len(edge_attr)):\n",
    "                f.write(edge_attr[i] + ' ' + edge_attr_gdf[i])\n",
    "                if i < len(edge_attr) - 1:\n",
    "                    f.write(',')\n",
    "                else:\n",
    "                    f.write('\\n')\n",
    "        else:\n",
    "            f.write('\\n')\n",
    "        print 'edges header done'\n",
    "\n",
    "        # Elements\n",
    "        for item in G.edges():\n",
    "            if edge_attr != None  and len(edge_attr)>0:\n",
    "                f.write(str(item[0]) + ' , ' + str(item[1]) + ', True, ')\n",
    "                for i in range(len(edge_attr)):\n",
    "                    if i < len(edge_attr) - 1:\n",
    "                        f.write(str(G.edge[item[0]][item[1]][edge_attr[i]]) + ',')\n",
    "                    else:\n",
    "                        f.write(str(G.edge[item[0]][item[1]][edge_attr[i]]) + '\\n')\n",
    "\n",
    "            else:\n",
    "                f.write(str(item[0]) + ' , ' + str(item[1]) + ', True \\n')\n",
    "\n",
    "        print 'edges done'\n",
    "\n",
    "    return"
   ]
  },
  {
   "cell_type": "code",
   "execution_count": 51,
   "metadata": {},
   "outputs": [
    {
     "name": "stdout",
     "output_type": "stream",
     "text": [
      "subject: 'Pablo_Iglesias'\n",
      "seed: 'Pablo_Iglesias_'\n",
      "Pablo_Iglesias_  done\n"
     ]
    }
   ],
   "source": [
    "treshold=10\n",
    "\n",
    "subject=input('subject: ')\n",
    "\n",
    "seed=input('seed: ')\n",
    "statuses={}\n",
    "sources={}\n",
    "statuses_others={}\n",
    "sources_others={}\n",
    "\n",
    "statuses[seed]=getTimeline(seed)\n",
    "sources[seed]=getSources(statuses[seed])\n",
    "\n",
    "G=nx.DiGraph()\n",
    "G.add_node(seed)"
   ]
  },
  {
   "cell_type": "code",
   "execution_count": 55,
   "metadata": {},
   "outputs": [
    {
     "data": {
      "image/png": "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\n",
      "text/plain": [
       "<Figure size 432x288 with 1 Axes>"
      ]
     },
     "metadata": {
      "needs_background": "light"
     },
     "output_type": "display_data"
    }
   ],
   "source": [
    "labels, values = zip(*Counter(sources[seed]).items())\n",
    "\n",
    "\n",
    "plt.hist(np.log(values),bins='auto')\n",
    "plt.show()\n"
   ]
  },
  {
   "cell_type": "code",
   "execution_count": 56,
   "metadata": {},
   "outputs": [
    {
     "name": "stdout",
     "output_type": "stream",
     "text": [
      "27.279999999999973 61.991784529616645\n",
      "ionebelarra 40\n",
      "ahorapodemos 352\n",
      "tuerka_ovt 51\n",
      "SofCastanon 32\n",
      "Irene_Montero_ 82\n",
      "pnique 75\n",
      "MayoralRafa 29\n",
      "VeraNoelia 65\n",
      "0.00485142510612\n"
     ]
    }
   ],
   "source": [
    "m = np.mean(values)\n",
    "s = np.sqrt(np.var(values))\n",
    "q = np.percentile(values, 98)\n",
    "print q, m+3*s\n",
    "count=0\n",
    "for label in labels:\n",
    "    if Counter(sources[seed])[label]>q:\n",
    "        print label,Counter(sources[seed])[label]\n",
    "        count+=1\n",
    "        \n",
    "print count/float(len(sources[seed]))"
   ]
  },
  {
   "cell_type": "code",
   "execution_count": 57,
   "metadata": {},
   "outputs": [
    {
     "name": "stdout",
     "output_type": "stream",
     "text": [
      "[u'ionebelarra', u'ahorapodemos', u'tuerka_ovt', u'SofCastanon', u'Irene_Montero_', u'pnique', u'MayoralRafa', u'VeraNoelia']\n"
     ]
    }
   ],
   "source": [
    "user_list=[x for x,y in zip(labels,values) if y>q]\n",
    "if seed in user_list:\n",
    "\t#user_list=[x[0] for x in Counter(sources[seed]).most_common(treshold+1)]\n",
    "\tuser_list.remove(seed)\n",
    "\n",
    "print user_list"
   ]
  },
  {
   "cell_type": "code",
   "execution_count": 58,
   "metadata": {},
   "outputs": [
    {
     "name": "stdout",
     "output_type": "stream",
     "text": [
      "ionebelarra  done\n",
      "ahorapodemos  done\n",
      "tuerka_ovt  done\n",
      "SofCastanon  done\n",
      "Irene_Montero_  done\n",
      "pnique  done\n",
      "MayoralRafa  done\n",
      "VeraNoelia  done\n"
     ]
    }
   ],
   "source": [
    "for user in user_list:\n",
    "\t\n",
    "\tG.add_edge(seed, user)\n",
    "\tstatuses[user]=getTimeline(user)    \n",
    "\tsources[user]=getSources(statuses[user])\n",
    "\tnew_user_list=[x[0] for x in Counter(sources[user]).most_common(treshold)]\n",
    "\tif user in new_user_list:\n",
    "\t\tnew_user_list=[x[0] for x in Counter(sources[user]).most_common(treshold+1)]\n",
    "\t\tnew_user_list.remove(user)\n",
    "\tfor node in new_user_list:\n",
    "\t\tG.add_edge(user,node)"
   ]
  },
  {
   "cell_type": "code",
   "execution_count": 59,
   "metadata": {},
   "outputs": [
    {
     "name": "stdout",
     "output_type": "stream",
     "text": [
      "ionebelarra 34.799999999999955 67.30051706010818\n",
      "ahorapodemos\n",
      "SofCastanon\n",
      "DinaBousselham\n",
      "Podemosnavarra\n",
      "Pablo_Iglesias_\n",
      "Irene_Montero_\n",
      "PodemosCongreso\n",
      "[(u'ahorapodemos', 362), (u'Podemosnavarra', 76), (u'Pablo_Iglesias_', 62), (u'Irene_Montero_', 55), (u'PodemosCongreso', 47), (u'DinaBousselham', 39), (u'SofCastanon', 38), (u'pnique', 34), (u'J_Sanchez_Serna', 32), (u'mrenau', 27)]\n",
      "0.00455729166667\n",
      "ahorapodemos 51.95999999999998 69.36768696292239\n",
      "ionebelarra\n",
      "SofCastanon\n",
      "juanmalpr\n",
      "GloriaElizo\n",
      "pnique\n",
      "Pablo_Iglesias_\n",
      "[(u'Pablo_Iglesias_', 212), (u'ionebelarra', 165), (u'pnique', 129), (u'GloriaElizo', 78), (u'SofCastanon', 69), (u'juanmalpr', 52), (u'VeraNoelia', 50), (u'Irene_Montero_', 48), (u'MayoralRafa', 47), (u'Instituto25M', 39)]\n",
      "0.00349040139616\n",
      "tuerka_ovt 30.000000000000114 30.751297306636364\n",
      "Fort_Apache_\n",
      "publico_es\n",
      "IrantzuVarela\n",
      "tv_EKO\n",
      "LaKlau_Cat\n",
      "Pablo_Iglesias_\n",
      "[(u'publico_es', 119), (u'Pablo_Iglesias_', 57), (u'Fort_Apache_', 44), (u'tv_EKO', 43), (u'IrantzuVarela', 42), (u'LaKlau_Cat', 37), (u'Memoria_Publica', 27), (u'FaktoriaLila', 17), (u'El_Diagonal', 13), (u'pikaramagazine', 12)]\n",
      "0.0069848661234\n",
      "SofCastanon 30.339999999999918 60.517646265806206\n",
      "ionebelarra\n",
      "ahorapodemos\n",
      "pdmFeminismos\n",
      "lauracasielles\n",
      "Pablo_Iglesias_\n",
      "albagsanz\n",
      "Instituto25M\n",
      "Irene_Montero_\n",
      "PodemosCongreso\n",
      "VeraNoelia\n",
      "[(u'ahorapodemos', 246), (u'pdmFeminismos', 241), (u'Irene_Montero_', 102), (u'ionebelarra', 98), (u'Pablo_Iglesias_', 63), (u'PodemosCongreso', 63), (u'VeraNoelia', 59), (u'Instituto25M', 57), (u'lauracasielles', 38), (u'albagsanz', 31)]\n",
      "0.004086636698\n",
      "Irene_Montero_ 26.559999999999945 65.57351132282707\n",
      "ionebelarra\n",
      "ahorapodemos\n",
      "SofCastanon\n",
      "pnique\n",
      "AdaColau\n",
      "juanmalpr\n",
      "Pablo_Iglesias_\n",
      "[(u'ahorapodemos', 270), (u'Pablo_Iglesias_', 201), (u'pnique', 69), (u'ionebelarra', 54), (u'SofCastanon', 44), (u'juanmalpr', 38), (u'AdaColau', 27), (u'MayoralRafa', 25), (u'DinaBousselham', 25), (u'nachoalvarez_', 24)]\n",
      "0.00416171224732\n",
      "pnique 27.139999999999986 77.2410705033441\n",
      "ionebelarra\n",
      "ahorapodemos\n",
      "juanmalpr\n",
      "iescolar\n",
      "Pablo_Iglesias_\n",
      "Irene_Montero_\n",
      "pnique\n",
      "VeraNoelia\n",
      "[(u'ahorapodemos', 354), (u'Pablo_Iglesias_', 307), (u'Irene_Montero_', 57), (u'ionebelarra', 56), (u'juanmalpr', 45), (u'iescolar', 33), (u'pnique', 33), (u'VeraNoelia', 28), (u'MayoralRafa', 27), (u'AntonioMaestre', 24)]\n",
      "0.00416016640666\n",
      "MayoralRafa 20.819999999999936 22.24429327141375\n",
      "ahorapodemos\n",
      "davalosalarcon\n",
      "Irene_Montero_\n",
      "nomasprecario\n",
      "Pablo_Iglesias_\n",
      "[(u'ahorapodemos', 71), (u'nomasprecario', 40), (u'Pablo_Iglesias_', 34), (u'Irene_Montero_', 29), (u'davalosalarcon', 26), (u'AmazonEnLucha', 19), (u'JaimePalomera', 19), (u'juanmalpr', 17), (u'Alber_Canarias', 14), (u'404comunicacion', 11)]\n",
      "0.00718390804598\n",
      "VeraNoelia 65.18 79.37733508309495\n",
      "ahorapodemos\n",
      "PodemosCadiz\n",
      "TeresaRodr_\n",
      "SofCastanon\n",
      "Pablo_Iglesias_\n",
      "pnique\n",
      "Irene_Montero_\n",
      "PodemosCongreso\n",
      "[(u'ahorapodemos', 362), (u'Pablo_Iglesias_', 245), (u'Irene_Montero_', 127), (u'TeresaRodr_', 77), (u'SofCastanon', 75), (u'PodemosCongreso', 72), (u'PodemosCadiz', 67), (u'pnique', 66), (u'ionebelarra', 65), (u'JM_Kichi', 61)]\n",
      "0.00364298724954\n"
     ]
    }
   ],
   "source": [
    "for user in user_list:\n",
    "    labels, values = zip(*Counter(sources[user]).items())\n",
    "    m = np.mean(values)\n",
    "    s = np.sqrt(np.var(values))\n",
    "    q = np.percentile(values, 98)\n",
    "    print user, q, m+3*s\n",
    "    count=0\n",
    "    for label in labels:\n",
    "        if Counter(sources[user])[label]>q:\n",
    "            print label\n",
    "            count+=1\n",
    "\n",
    "    print Counter(sources[user]).most_common(10)\n",
    "    print count/float(len(sources[user]))"
   ]
  },
  {
   "cell_type": "code",
   "execution_count": 60,
   "metadata": {},
   "outputs": [
    {
     "name": "stdout",
     "output_type": "stream",
     "text": [
      "[u'GloriaElizo']\n",
      "[u'FaktoriaLila']\n",
      "[u'publico_es']\n",
      "[u'AmazonEnLucha']\n",
      "[u'mrenau']\n",
      "[u'TeresaRodr_']\n",
      "[u'davalosalarcon']\n",
      "[u'IrantzuVarela']\n",
      "[u'nomasprecario']\n",
      "[u'Instituto25M']\n",
      "[u'DinaBousselham']\n",
      "[u'AdaColau']\n",
      "[u'JM_Kichi']\n",
      "[u'Memoria_Publica']\n",
      "[u'albagsanz']\n",
      "[u'JaimePalomera']\n",
      "[u'iescolar']\n",
      "[u'pikaramagazine']\n",
      "[u'PodemosCongreso']\n",
      "[u'LaKlau_Cat']\n",
      "[u'AntonioMaestre']\n",
      "[u'Podemosnavarra']\n",
      "[u'tv_EKO']\n",
      "[u'juanmalpr']\n",
      "[u'lauracasielles']\n",
      "[u'J_Sanchez_Serna']\n",
      "[u'PodemosCadiz']\n",
      "['Pablo_Iglesias_', u'ahorapodemos', u'VeraNoelia', u'SofCastanon']\n",
      "['Pablo_Iglesias_', u'ahorapodemos', u'VeraNoelia', u'pnique']\n",
      "['Pablo_Iglesias_', u'ahorapodemos', u'Irene_Montero_', u'ionebelarra', u'SofCastanon']\n",
      "['Pablo_Iglesias_', u'ahorapodemos', u'Irene_Montero_', u'ionebelarra', u'pnique']\n",
      "['Pablo_Iglesias_', u'ahorapodemos', u'Irene_Montero_', u'MayoralRafa']\n",
      "['Pablo_Iglesias_', u'tuerka_ovt']\n",
      "[u'pdmFeminismos']\n",
      "[u'nachoalvarez_']\n",
      "[u'Fort_Apache_']\n",
      "[u'El_Diagonal']\n",
      "[u'RamonEspinar']\n",
      "[u'404comunicacion']\n",
      "[u'Alber_Canarias']\n",
      "core is  ['Pablo_Iglesias_', u'ahorapodemos', u'Irene_Montero_', u'ionebelarra', u'SofCastanon']\n"
     ]
    }
   ],
   "source": [
    "H=G.to_undirected(reciprocal=True)\n",
    "lc=nx.find_cliques(H)\n",
    "core=[]\n",
    "old_max=0\n",
    "for l in lc:\n",
    "\tprint l    \n",
    "\tmaxl=len(l)\n",
    "\tif maxl>old_max:\n",
    "\t\tcore=l\n",
    "\t\told_max=maxl\n",
    "\n",
    "print 'core is ',core"
   ]
  },
  {
   "cell_type": "code",
   "execution_count": 61,
   "metadata": {},
   "outputs": [
    {
     "name": "stdout",
     "output_type": "stream",
     "text": [
      "['Pablo_Iglesias_', u'ahorapodemos', u'Irene_Montero_', u'ionebelarra', u'pnique']\n"
     ]
    }
   ],
   "source": [
    "core=['Pablo_Iglesias_', u'ahorapodemos', u'Irene_Montero_', u'ionebelarra', u'pnique']\n",
    "print core"
   ]
  },
  {
   "cell_type": "code",
   "execution_count": 62,
   "metadata": {},
   "outputs": [],
   "source": [
    "shell_number={}\n",
    "\n",
    "for node in G.nodes():\n",
    "\tscore=0\n",
    "\tfor c in core:\n",
    "\t\tif c in G.predecessors(node):\n",
    "\t\t\tscore+=1\n",
    "\tif node in core:\n",
    "\t\tshell_number[node]=score+2\n",
    "\telse:\n",
    "\t\tshell_number[node]=score\n",
    "\n",
    "\n",
    "side_core=[x for x in shell_number.keys() if shell_number[x]==old_max]\n",
    "\n",
    "shell={}\n",
    "\n",
    "shell[1]=[x for x in shell_number.keys() if shell_number[x]==old_max-1 and x not in core]\n",
    "\n",
    "for i in range(2,old_max):\n",
    "\tshell[i]=[x for x in shell_number.keys() if shell_number[x]==old_max-i]\n",
    "\n",
    "\n",
    "others=[x for x in shell_number.keys() if shell_number[x]==0]"
   ]
  },
  {
   "cell_type": "code",
   "execution_count": 63,
   "metadata": {},
   "outputs": [
    {
     "name": "stdout",
     "output_type": "stream",
     "text": [
      "side core is []\n",
      "shell  1  is [u'MayoralRafa', u'SofCastanon']\n",
      "shell  2  is [u'juanmalpr', u'VeraNoelia']\n",
      "shell  3  is [u'DinaBousselham']\n",
      "shell  4  is [u'GloriaElizo', u'mrenau', u'J_Sanchez_Serna', u'Instituto25M', u'AdaColau', u'iescolar', u'PodemosCongreso', u'AntonioMaestre', u'Podemosnavarra', u'tuerka_ovt', u'nachoalvarez_', u'RamonEspinar']\n"
     ]
    }
   ],
   "source": [
    "print 'side core is', side_core\n",
    "for i in shell.keys():\n",
    "    print 'shell ',i,' is', shell[i]"
   ]
  },
  {
   "cell_type": "code",
   "execution_count": 64,
   "metadata": {},
   "outputs": [
    {
     "name": "stdout",
     "output_type": "stream",
     "text": [
      "[u'GloriaElizo', u'mrenau', u'Instituto25M', u'DinaBousselham', u'AdaColau', u'iescolar', u'PodemosCongreso', u'AntonioMaestre', u'Podemosnavarra', u'J_Sanchez_Serna', u'nachoalvarez_', u'RamonEspinar', u'juanmalpr']\n"
     ]
    }
   ],
   "source": [
    "user_list=[]\n",
    "for node in G.nodes():\n",
    "    if shell_number[node]!=0 and node not in statuses.keys():\n",
    "        user_list.append(node)\n",
    "        \n",
    "print user_list"
   ]
  },
  {
   "cell_type": "code",
   "execution_count": 65,
   "metadata": {},
   "outputs": [
    {
     "name": "stdout",
     "output_type": "stream",
     "text": [
      "GloriaElizo  done\n",
      "mrenau  done\n",
      "Instituto25M  done\n",
      "DinaBousselham  done\n",
      "AdaColau  done\n",
      "iescolar  done\n",
      "PodemosCongreso  done\n",
      "AntonioMaestre  done\n",
      "Podemosnavarra  done\n",
      "J_Sanchez_Serna  done\n",
      "nachoalvarez_  done\n",
      "RamonEspinar  done\n",
      "juanmalpr  done\n"
     ]
    }
   ],
   "source": [
    "for user in user_list:\n",
    "\t\n",
    "\tstatuses[user]=getTimeline(user)    \n",
    "\tsources[user]=getSources(statuses[user])\n",
    "\tnew_user_list=[x[0] for x in Counter(sources[user]).most_common(treshold)]\n",
    "\tif user in new_user_list:\n",
    "\t\tnew_user_list=[x[0] for x in Counter(sources[user]).most_common(treshold+1)]\n",
    "\t\tnew_user_list.remove(user)\n",
    "\tfor node in new_user_list:\n",
    "\t\tG.add_edge(user,node)"
   ]
  },
  {
   "cell_type": "code",
   "execution_count": 73,
   "metadata": {},
   "outputs": [],
   "source": [
    "for node in G.nodes():\n",
    "\tscore=0\n",
    "\tfor c in core:\n",
    "\t\tif c in G.predecessors(node):\n",
    "\t\t\tscore+=1\n",
    "\tif node in core:\n",
    "\t\tshell_number[node]=score+2\n",
    "\telse:\n",
    "\t\tshell_number[node]=score\n",
    "\n",
    "\n",
    "side_core=[x for x in shell_number.keys() if shell_number[x]==old_max]\n",
    "\n",
    "shell={}\n",
    "\n",
    "shell[1]=[x for x in shell_number.keys() if shell_number[x]==old_max-1 and x not in core]\n",
    "\n",
    "for i in range(2,old_max):\n",
    "\tshell[i]=[x for x in shell_number.keys() if shell_number[x]==old_max-i]\n",
    "\n",
    "\n",
    "others=[x for x in shell_number.keys() if shell_number[x]==0]"
   ]
  },
  {
   "cell_type": "code",
   "execution_count": 74,
   "metadata": {},
   "outputs": [
    {
     "name": "stdout",
     "output_type": "stream",
     "text": [
      "side core is []\n",
      "shell  1  is [u'MayoralRafa', u'SofCastanon']\n",
      "shell  2  is [u'juanmalpr', u'VeraNoelia']\n",
      "shell  3  is [u'DinaBousselham']\n",
      "shell  4  is [u'nachoalvarez_', u'AntonioMaestre', u'Podemosnavarra', u'J_Sanchez_Serna', u'GloriaElizo', u'mrenau', u'Instituto25M', u'iescolar', u'RamonEspinar', u'AdaColau', u'PodemosCongreso', u'tuerka_ovt']\n"
     ]
    }
   ],
   "source": [
    "print 'side core is', side_core\n",
    "for i in shell.keys():\n",
    "    print 'shell ',i,' is', shell[i]"
   ]
  },
  {
   "cell_type": "code",
   "execution_count": 77,
   "metadata": {},
   "outputs": [
    {
     "name": "stdout",
     "output_type": "stream",
     "text": [
      "to_GDF\n",
      "node attr shell : int\n",
      "writing...\n",
      "nodes header done\n",
      "nodes done\n",
      "edges header done\n",
      "edges done\n"
     ]
    }
   ],
   "source": [
    "nx.set_node_attributes(G,'shell',shell_number)\n",
    "nxdigraph_to_gdf(G,path=subject+'TRIG.gdf',node_attr=['shell'])"
   ]
  }
 ],
 "metadata": {
  "kernelspec": {
   "display_name": "Python 2",
   "language": "python",
   "name": "python2"
  },
  "language_info": {
   "codemirror_mode": {
    "name": "ipython",
    "version": 2
   },
   "file_extension": ".py",
   "mimetype": "text/x-python",
   "name": "python",
   "nbconvert_exporter": "python",
   "pygments_lexer": "ipython2",
   "version": "2.7.15rc1"
  }
 },
 "nbformat": 4,
 "nbformat_minor": 2
}
